{
 "cells": [
  {
   "cell_type": "code",
   "execution_count": 280,
   "id": "4bea86d3",
   "metadata": {},
   "outputs": [],
   "source": [
    "import pandas as pd\n",
    "import numpy as np"
   ]
  },
  {
   "cell_type": "code",
   "execution_count": 281,
   "id": "609edb87",
   "metadata": {},
   "outputs": [],
   "source": [
    "#As the file does not have a specific delimiter I do a fixed column width\n",
    "widths = [(34,52), (52, 67),(89,110), (110,111), (111, 136), (137,141), (156,157)]\n",
    "data = pd.read_fwf(\"PP0006_MULTI.txt\", encoding='latin1', colspecs=widths, header=None)\n",
    "#I add header\n",
    "data.columns = ['part_number','title','price', 'availability', 'subtitute', 'quantity', 'discount_group']"
   ]
  },
  {
   "cell_type": "code",
   "execution_count": 282,
   "id": "e7a010d8",
   "metadata": {},
   "outputs": [],
   "source": [
    "#I remove all product that is not available\n",
    "data = data[data['availability'] != 5]"
   ]
  },
  {
   "cell_type": "code",
   "execution_count": 283,
   "id": "22dfb4cf",
   "metadata": {},
   "outputs": [],
   "source": [
    "#If our availability is 1 or 3, I replace the availability field with No, else with Yes\n",
    "data['availability'] = np.where((data['availability'] == 1) | (data['availability'] == 3), 'No', 'Yes')"
   ]
  },
  {
   "cell_type": "code",
   "execution_count": 284,
   "id": "b4fe2c20",
   "metadata": {},
   "outputs": [],
   "source": [
    "#I separate the last 2 digits in a number with a comma\n",
    "data['price'] = data['price'].astype(str).str[:-2] + ',' + data['price'].astype(str).str[-2:]"
   ]
  },
  {
   "cell_type": "code",
   "execution_count": 285,
   "id": "2d8fe36e",
   "metadata": {},
   "outputs": [],
   "source": [
    "#I save the result to the \"result.csv\" file\n",
    "data.to_csv(\"result.csv\", index=False)"
   ]
  }
 ],
 "metadata": {
  "kernelspec": {
   "display_name": "Python 3 (ipykernel)",
   "language": "python",
   "name": "python3"
  },
  "language_info": {
   "codemirror_mode": {
    "name": "ipython",
    "version": 3
   },
   "file_extension": ".py",
   "mimetype": "text/x-python",
   "name": "python",
   "nbconvert_exporter": "python",
   "pygments_lexer": "ipython3",
   "version": "3.9.12"
  }
 },
 "nbformat": 4,
 "nbformat_minor": 5
}
